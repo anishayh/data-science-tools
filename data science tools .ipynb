{
 "cells": [
  {
   "cell_type": "markdown",
   "id": "66cdc1b2-c37a-4f0b-9802-c3d33986b4cf",
   "metadata": {},
   "source": [
    "# Data Scieince tools and ecosystem"
   ]
  },
  {
   "cell_type": "raw",
   "id": "fa200a4d-ec0b-4d65-8750-68afd9d55347",
   "metadata": {},
   "source": [
    "some popular language used by data scientist are:\n",
    "    1.python\n",
    "    2.r\n",
    "    3.sql\n",
    "    4.cpp\n",
    "    5.java"
   ]
  },
  {
   "cell_type": "raw",
   "id": "c903df29-7403-4aa5-931d-d2959608d3cf",
   "metadata": {},
   "source": [
    "Some libraries use are:\n",
    "    tenserflow\n",
    "    numoy\n",
    "    scify\n",
    "    pandas\n",
    "    matplotlib\n",
    "    pytorch"
   ]
  },
  {
   "cell_type": "markdown",
   "id": "0c8feba9-e2fd-4747-b5fd-c3e4c0fa1a90",
   "metadata": {},
   "source": [
    "|Data Science Tools|\n",
    "|---|\n",
    "|SAS|\n",
    "|Apache Hadoop|\n",
    "|TendorFlow|"
   ]
  },
  {
   "cell_type": "markdown",
   "id": "46cc6ee6-d70e-4f09-9335-c02a3f9eff3b",
   "metadata": {},
   "source": [
    "examples of arthmetic expressions in python:"
   ]
  },
  {
   "cell_type": "code",
   "execution_count": 2,
   "id": "2364a618-497c-4d1c-90b1-4bdecc30cc69",
   "metadata": {
    "tags": []
   },
   "outputs": [
    {
     "data": {
      "text/plain": [
       "17"
      ]
     },
     "execution_count": 2,
     "metadata": {},
     "output_type": "execute_result"
    }
   ],
   "source": [
    "#this is multiplication:\n",
    "(3*4)+5"
   ]
  },
  {
   "cell_type": "code",
   "execution_count": 3,
   "id": "6aa17fa3-4f5b-4aeb-9b88-24ff0fb2adab",
   "metadata": {
    "tags": []
   },
   "outputs": [
    {
     "data": {
      "text/plain": [
       "3.3333333333333335"
      ]
     },
     "execution_count": 3,
     "metadata": {},
     "output_type": "execute_result"
    }
   ],
   "source": [
    "#convert 200min to hrs by dividing 60\n",
    "200/60"
   ]
  },
  {
   "cell_type": "markdown",
   "id": "532a5ab0-1766-412c-b020-e278405ecef3",
   "metadata": {},
   "source": [
    "Objective"
   ]
  },
  {
   "cell_type": "raw",
   "id": "4b4ad470-22eb-48b8-ae6d-117e71e9042f",
   "metadata": {},
   "source": [
    "list popular languages of data science\n",
    "popular libraries\n",
    "well known tools\n",
    "commonts in the cell\n"
   ]
  },
  {
   "cell_type": "markdown",
   "id": "8407b81e-73b1-4edb-be73-2f369b865534",
   "metadata": {},
   "source": [
    "# Author:"
   ]
  },
  {
   "cell_type": "markdown",
   "id": "68292f21-8729-4b62-a659-c9c960ef597e",
   "metadata": {},
   "source": [
    "Anisha Raj"
   ]
  },
  {
   "cell_type": "code",
   "execution_count": null,
   "id": "f385d5dd-bd1b-4175-985e-f85a2571e48a",
   "metadata": {},
   "outputs": [],
   "source": []
  }
 ],
 "metadata": {
  "kernelspec": {
   "display_name": "Python 3 (ipykernel)",
   "language": "python",
   "name": "python3"
  },
  "language_info": {
   "codemirror_mode": {
    "name": "ipython",
    "version": 3
   },
   "file_extension": ".py",
   "mimetype": "text/x-python",
   "name": "python",
   "nbconvert_exporter": "python",
   "pygments_lexer": "ipython3",
   "version": "3.11.5"
  }
 },
 "nbformat": 4,
 "nbformat_minor": 5
}
